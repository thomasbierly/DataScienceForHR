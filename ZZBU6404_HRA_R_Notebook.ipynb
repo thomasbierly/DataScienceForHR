{
  "nbformat": 4,
  "nbformat_minor": 0,
  "metadata": {
    "colab": {
      "provenance": []
    },
    "kernelspec": {
      "name": "ir",
      "display_name": "R"
    },
    "language_info": {
      "name": "R"
    }
  },
  "cells": [
    {
      "cell_type": "markdown",
      "source": [
        "# **UNSW**\n",
        "# ZZBU6404 Human Resource Analytics\n",
        "## R Notebook\n",
        "### By Thomas Bierly"
      ],
      "metadata": {
        "id": "pzm7XG14znJy"
      }
    },
    {
      "cell_type": "markdown",
      "source": [
        "# O-Week"
      ],
      "metadata": {
        "id": "EDzX3A8rJR9F"
      }
    },
    {
      "cell_type": "code",
      "source": [
        "# URL of the CSV file\n",
        "url <- \"http://example.com/data.csv\"\n",
        "\n",
        "# Reading the CSV file from the URL\n",
        "data <- read.csv(url)\n",
        "\n",
        "# Viewing the first few rows of the data\n",
        "head(data)\n"
      ],
      "metadata": {
        "id": "uEnQpAofJCMC"
      },
      "execution_count": null,
      "outputs": []
    },
    {
      "cell_type": "markdown",
      "source": [
        "# Week 2"
      ],
      "metadata": {
        "id": "AVRP-XY1Jsfn"
      }
    },
    {
      "cell_type": "code",
      "source": [],
      "metadata": {
        "id": "FFZk5oZ3KE0C"
      },
      "execution_count": null,
      "outputs": []
    },
    {
      "cell_type": "code",
      "source": [
        "# URL of the CSV file\n",
        "url <- \"https://raw.githubusercontent.com/thomasbierly/DataScienceForHR/main/Week_2_Employee_Satisfaction.csv\"\n",
        "\n",
        "# Reading the CSV file from the URL\n",
        "data <- read.csv(url)\n",
        "\n",
        "# Viewing the first few rows of the data\n",
        "head(data)"
      ],
      "metadata": {
        "id": "pmI9flITJspF"
      },
      "execution_count": null,
      "outputs": []
    },
    {
      "cell_type": "code",
      "source": [
        "mean_value <- mean(data$Satisfaction.rating)\n",
        "median_value <- median(data$Satisfaction.rating)\n",
        "mode_value <- as.numeric(names(sort(table(data$Satisfaction.rating), decreasing=TRUE)[1]))  # R doesn't have a built-in mode function\n"
      ],
      "metadata": {
        "id": "6e9UvxIpKLCc"
      },
      "execution_count": null,
      "outputs": []
    },
    {
      "cell_type": "code",
      "source": [
        "print(paste(\"Mean:\", mean_value))\n",
        "print(paste(\"Median:\", median_value))\n",
        "print(paste(\"Mode:\", mode_value))"
      ],
      "metadata": {
        "id": "OtRI5XWofC1a"
      },
      "execution_count": null,
      "outputs": []
    },
    {
      "cell_type": "code",
      "source": [
        "library(ggplot2)"
      ],
      "metadata": {
        "id": "LO1dZlkPfN96"
      },
      "execution_count": null,
      "outputs": []
    },
    {
      "cell_type": "code",
      "source": [
        "ggplot(data, aes(x=Satisfaction.rating)) +\n",
        "  geom_histogram(binwidth = 1, fill=\"blue\", alpha=0.7) +\n",
        "  geom_vline(aes(xintercept=mean_value, color=\"Mean\"), linetype=\"dashed\", linewidth=1.5) +\n",
        "  geom_vline(aes(xintercept=median_value, color=\"Median\"), linetype=\"solid\", linewidth=1.5) +\n",
        "  geom_vline(aes(xintercept=mode_value, color=\"Mode\"), linetype=\"dotdash\", linewidth=1.5) +\n",
        "  labs(title=\"Distribution of Employee Satisfaction Scores\", x=\"Satisfaction Score\", y=\"Frequency\", color=\"Line Type\") +\n",
        "  scale_color_manual(values=c(\"Mean\"=\"red\", \"Median\"=\"green\", \"Mode\"=\"blue\")) +\n",
        "  theme_minimal()"
      ],
      "metadata": {
        "id": "dcbCJ1gchGz9"
      },
      "execution_count": null,
      "outputs": []
    },
    {
      "cell_type": "markdown",
      "source": [
        "# Week 3"
      ],
      "metadata": {
        "id": "ZiasPiwVJszu"
      }
    },
    {
      "cell_type": "markdown",
      "source": [
        "### T-Test"
      ],
      "metadata": {
        "id": "Iay1JRAMzVT-"
      }
    },
    {
      "cell_type": "code",
      "source": [
        "# URL of the CSV file\n",
        "url <- \"https://raw.githubusercontent.com/thomasbierly/DataScienceForHR/main/Week_3_Gender_Salary.csv\"\n",
        "\n",
        "# Reading the CSV file from the URL\n",
        "data <- read.csv(url)\n",
        "\n",
        "# Viewing the first few rows of the data\n",
        "head(data)"
      ],
      "metadata": {
        "id": "k0zvori9Js8j"
      },
      "execution_count": null,
      "outputs": []
    },
    {
      "cell_type": "code",
      "source": [
        "data$gender <- factor(data$gender)\n",
        "head(data)"
      ],
      "metadata": {
        "id": "tQwJHdUjpbrd"
      },
      "execution_count": null,
      "outputs": []
    },
    {
      "cell_type": "code",
      "source": [
        "t_test_result <- t.test(salary ~ gender, data = data)\n",
        "t_test_result"
      ],
      "metadata": {
        "id": "EpuV3o3kKLn4"
      },
      "execution_count": null,
      "outputs": []
    },
    {
      "cell_type": "markdown",
      "source": [
        "### ANOVA"
      ],
      "metadata": {
        "id": "WkaYZeypzb1L"
      }
    },
    {
      "cell_type": "code",
      "source": [
        "# URL of the CSV file\n",
        "url <- \"https://raw.githubusercontent.com/thomasbierly/DataScienceForHR/main/Week_3_Race_Performance.csv\"\n",
        "\n",
        "# Reading the CSV file from the URL\n",
        "data <- read.csv(url)\n",
        "\n",
        "# Viewing the first few rows of the data\n",
        "head(data)"
      ],
      "metadata": {
        "id": "RANR5L0BnuyJ"
      },
      "execution_count": null,
      "outputs": []
    },
    {
      "cell_type": "code",
      "source": [
        "data$Race <- factor(data$Race)\n",
        "head(data)"
      ],
      "metadata": {
        "id": "qYsUffNznu1m"
      },
      "execution_count": null,
      "outputs": []
    },
    {
      "cell_type": "code",
      "source": [
        "res.aov <- aov(Performance_Score ~ Race, data = data)\n",
        "summary(res.aov)"
      ],
      "metadata": {
        "id": "Qogcn7Z4nu6W"
      },
      "execution_count": null,
      "outputs": []
    },
    {
      "cell_type": "code",
      "source": [
        "TukeyHSD(res.aov)"
      ],
      "metadata": {
        "id": "mdjWltgh2DmF"
      },
      "execution_count": null,
      "outputs": []
    },
    {
      "cell_type": "markdown",
      "source": [
        "# Week 4"
      ],
      "metadata": {
        "id": "PmicnhRlJtHv"
      }
    },
    {
      "cell_type": "markdown",
      "source": [
        "### Linear Regression"
      ],
      "metadata": {
        "id": "n92SYvui2o20"
      }
    },
    {
      "cell_type": "code",
      "source": [
        "# URL of the CSV file\n",
        "url <- \"https://raw.githubusercontent.com/thomasbierly/DataScienceForHR/main/Week_4_IQ_Performance.csv\"\n",
        "\n",
        "# Reading the CSV file from the URL\n",
        "data <- read.csv(url)\n",
        "\n",
        "# Viewing the first few rows of the data\n",
        "head(data)\n"
      ],
      "metadata": {
        "id": "xZu0bVsBJtTu"
      },
      "execution_count": null,
      "outputs": []
    },
    {
      "cell_type": "code",
      "source": [
        "# Perform linear regression\n",
        "model <- lm(performance_rating ~ employee_iq, data = data)\n",
        "\n",
        "# Summary of the regression model\n",
        "summary(model)"
      ],
      "metadata": {
        "id": "wN4YbZ2AKMF4"
      },
      "execution_count": null,
      "outputs": []
    },
    {
      "cell_type": "code",
      "source": [
        "# Plotting the data points\n",
        "plot(data$employee_iq, data$performance_rating, main = \"Employee IQ vs Performance Rating\",\n",
        "     xlab = \"Employee IQ\", ylab = \"Performance Rating\", pch = 19, col = \"blue\")\n",
        "\n",
        "# Adding the regression line\n",
        "abline(model, col = \"red\", lwd = 2)"
      ],
      "metadata": {
        "id": "z9n24LzH2njX"
      },
      "execution_count": null,
      "outputs": []
    },
    {
      "cell_type": "markdown",
      "source": [
        "### Multiple Regression"
      ],
      "metadata": {
        "id": "niJqmx0HA9D_"
      }
    },
    {
      "cell_type": "code",
      "source": [
        "# URL of the CSV file\n",
        "url <- \"https://raw.githubusercontent.com/thomasbierly/DataScienceForHR/main/Week_4_IQ_Multi.csv\"\n",
        "\n",
        "# Reading the CSV file from the URL\n",
        "data <- read.csv(url)\n",
        "\n",
        "# Viewing the first few rows of the data\n",
        "head(data)"
      ],
      "metadata": {
        "id": "WhptW9fWA5vi"
      },
      "execution_count": null,
      "outputs": []
    },
    {
      "cell_type": "code",
      "source": [
        "model <- lm(Performance_Rating ~ Employee_IQ + Educational_Background + Work_Experience + Emotional_Intelligence + Motivation_Level, data=data)\n",
        "summary(model)"
      ],
      "metadata": {
        "id": "YsQTIfpxA50y"
      },
      "execution_count": null,
      "outputs": []
    },
    {
      "cell_type": "code",
      "source": [
        "par(mfrow = c(2, 3))  # Adjust layout for multiple plots\n",
        "\n",
        "# Loop over specific columns excluding 'Performance_Rating'\n",
        "for (var in names(data)[names(data) != \"Performance_Rating\"]) {\n",
        "    plot(data[[var]], data$Performance_Rating,\n",
        "         xlab = var,  # Set x-axis label to the column name\n",
        "         ylab = \"Performance Rating\",\n",
        "         main = paste(\"Performance Rating vs\", var))  # Set title\n",
        "    abline(lm(Performance_Rating ~ data[[var]], data = data), col = \"red\")\n",
        "}"
      ],
      "metadata": {
        "id": "w3Ipn7TUFiLj"
      },
      "execution_count": null,
      "outputs": []
    },
    {
      "cell_type": "markdown",
      "source": [
        "# Week 5"
      ],
      "metadata": {
        "id": "V0pEIHuUJtbe"
      }
    },
    {
      "cell_type": "code",
      "source": [
        "# URL of the CSV file\n",
        "url <- \"https://raw.githubusercontent.com/thomasbierly/DataScienceForHR/main/interview_outcomes.csv\"\n",
        "\n",
        "# Reading the CSV file from the URL\n",
        "data <- read.csv(url)\n",
        "\n",
        "# Viewing the first few rows of the data\n",
        "head(data)\n"
      ],
      "metadata": {
        "id": "K_hNknhDJttq"
      },
      "execution_count": null,
      "outputs": []
    },
    {
      "cell_type": "code",
      "source": [
        "  model <- glm(Interview_Outcome ~ Years_of_Relevant_Experience + Education_Level + Certifications_Count + Industry_References + CV_Strength_Score,\n",
        "                 data = data, family = \"binomial\")\n",
        "\n",
        "summary(model)"
      ],
      "metadata": {
        "id": "n1c2c7rjKMln"
      },
      "execution_count": null,
      "outputs": []
    },
    {
      "cell_type": "code",
      "source": [
        "# Calculate the odds ratios\n",
        "odds_ratios <- exp(coef(model))\n",
        "odds_ratios"
      ],
      "metadata": {
        "id": "6U_obf45LNcY"
      },
      "execution_count": null,
      "outputs": []
    },
    {
      "cell_type": "code",
      "source": [
        "library(ggplot2)\n",
        "\n",
        "# Calculate odds ratios and their confidence intervals\n",
        "model_coef <- summary(model)$coefficients\n",
        "odds_ratios <- exp(model_coef[, 1])\n",
        "conf_int <- exp(confint(model))\n",
        "\n",
        "# Create a data frame for plotting\n",
        "plot_data <- data.frame(\n",
        "  Predictor = rownames(model_coef),\n",
        "  OR = odds_ratios,\n",
        "  Lower = conf_int[, 1],\n",
        "  Upper = conf_int[, 2]\n",
        ")\n",
        "\n",
        "# Plotting\n",
        "ggplot(plot_data, aes(y = Predictor, x = OR, xmin = Lower, xmax = Upper)) +\n",
        "  geom_point() +\n",
        "  geom_errorbarh(height = 0.2) +\n",
        "  geom_vline(xintercept = 1, linetype = \"dashed\", color = \"grey\") +\n",
        "  labs(title = \"Odds Ratios with 95% Confidence Intervals\", x = \"Odds Ratio\") +\n",
        "  theme_minimal()"
      ],
      "metadata": {
        "id": "ieDX6q8vO-BM"
      },
      "execution_count": null,
      "outputs": []
    },
    {
      "cell_type": "markdown",
      "source": [
        "# Week 6"
      ],
      "metadata": {
        "id": "Ma9jXKj2Jt2p"
      }
    },
    {
      "cell_type": "markdown",
      "source": [
        "### Random Forest"
      ],
      "metadata": {
        "id": "Rdoi5OJzcA4-"
      }
    },
    {
      "cell_type": "code",
      "source": [
        "# Install necessary packages\n",
        "install.packages(\"randomForest\")\n",
        "install.packages(\"caret\")  # for data splitting and evaluation\n",
        "\n",
        "# Load the packages\n",
        "library(randomForest)\n",
        "library(caret)"
      ],
      "metadata": {
        "id": "wEPa_DN2KNI0"
      },
      "execution_count": null,
      "outputs": []
    },
    {
      "cell_type": "code",
      "source": [
        "# URL of the CSV file\n",
        "url <- \"https://raw.githubusercontent.com/thomasbierly/DataScienceForHR/main/HighPotential.csv\"\n",
        "\n",
        "# Reading the CSV file from the URL\n",
        "data <- read.csv(url)\n",
        "\n",
        "# Viewing the first few rows of the data\n",
        "head(data)\n"
      ],
      "metadata": {
        "id": "bYq0jXVyJA7n"
      },
      "execution_count": null,
      "outputs": []
    },
    {
      "cell_type": "code",
      "source": [
        "# Check for NA values and preprocess as necessary\n",
        "summary(data)\n",
        "\n",
        "# Convert 'HighPotential' to a factor\n",
        "data$HighPotential <- as.factor(data$HighPotential)\n",
        "\n",
        "# Splitting the dataset into training and testing sets\n",
        "set.seed(123)  # for reproducibility\n",
        "indexes <- createDataPartition(data$HighPotential, p=0.8, list=FALSE)\n",
        "train_data <- data[indexes, ]\n",
        "test_data <- data[-indexes, ]"
      ],
      "metadata": {
        "id": "gvuo0bEQb_oA"
      },
      "execution_count": null,
      "outputs": []
    },
    {
      "cell_type": "code",
      "source": [
        "# Train the model\n",
        "rf_model <- randomForest(HighPotential ~ ., data=train_data, ntree=100)\n",
        "\n",
        "# Print model summary\n",
        "print(rf_model)"
      ],
      "metadata": {
        "id": "uPfdq-xLb_qx"
      },
      "execution_count": null,
      "outputs": []
    },
    {
      "cell_type": "code",
      "source": [
        "# Make predictions on the test data\n",
        "predictions <- predict(rf_model, test_data)\n",
        "\n",
        "# Ensure predictions are factors with the same levels as the 'HighPotential' variable\n",
        "predictions <- factor(predictions, levels = levels(test_data$HighPotential))\n",
        "\n",
        "# Evaluating the model\n",
        "confusionMatrix(predictions, test_data$HighPotential)"
      ],
      "metadata": {
        "id": "Q4nnOPcvb_tr"
      },
      "execution_count": null,
      "outputs": []
    },
    {
      "cell_type": "code",
      "source": [
        "# Assessing variable importance\n",
        "importance(rf_model)\n",
        "\n",
        "# Plotting variable importance\n",
        "varImpPlot(rf_model)"
      ],
      "metadata": {
        "id": "blKZyVyEb_wy"
      },
      "execution_count": null,
      "outputs": []
    },
    {
      "cell_type": "markdown",
      "source": [
        "### Neural Network"
      ],
      "metadata": {
        "id": "EFC0mWltdEVl"
      }
    },
    {
      "cell_type": "code",
      "source": [
        "# Install necessary packages\n",
        "install.packages(\"neuralnet\")\n",
        "install.packages(\"caret\")  # for data preprocessing and splitting\n",
        "\n",
        "# Load the packages\n",
        "library(neuralnet)\n",
        "library(caret)"
      ],
      "metadata": {
        "id": "Ndmcvk5tb_z5"
      },
      "execution_count": null,
      "outputs": []
    },
    {
      "cell_type": "code",
      "source": [
        "# URL of the CSV file\n",
        "url <- \"https://raw.githubusercontent.com/thomasbierly/DataScienceForHR/main/HighPotential.csv\"\n",
        "\n",
        "# Reading the CSV file from the URL\n",
        "data <- read.csv(url)\n",
        "\n",
        "# Viewing the first few rows of the data\n",
        "head(data)\n"
      ],
      "metadata": {
        "id": "uo_CTQVab_2U"
      },
      "execution_count": null,
      "outputs": []
    },
    {
      "cell_type": "code",
      "source": [
        "# Convert 'HighPotential' to a factor\n",
        "data$HighPotential <- as.factor(data$HighPotential)\n",
        "\n",
        "# Exclude the target variable from normalization\n",
        "data_norm <- data\n",
        "data_norm[, -which(names(data) == \"HighPotential\")] <- scale(data[, -which(names(data) == \"HighPotential\")])\n",
        "\n",
        "# Splitting the dataset into training and testing sets\n",
        "set.seed(123)\n",
        "indexes <- createDataPartition(data_norm$HighPotential, p=0.8, list=FALSE)\n",
        "train_data <- data_norm[indexes, ]\n",
        "test_data <- data_norm[-indexes, ]"
      ],
      "metadata": {
        "id": "ATkuwkKjliWD"
      },
      "execution_count": null,
      "outputs": []
    },
    {
      "cell_type": "code",
      "source": [
        "# Train the neural network\n",
        "nn_model <- neuralnet(HighPotential ~ ., data=train_data, hidden=c(5), linear.output=FALSE)\n",
        "\n",
        "# Print model summary\n",
        "print(nn_model)"
      ],
      "metadata": {
        "id": "oLDGRqXteb0X"
      },
      "execution_count": null,
      "outputs": []
    },
    {
      "cell_type": "code",
      "source": [
        "# Compute predictions\n",
        "nn_predictions <- compute(nn_model, test_data[,-which(names(test_data) == \"HighPotential\")])\n",
        "predicted_values <- nn_predictions$net.result\n",
        "\n",
        "# Selecting the second column of predicted_values (probabilities of being class 1)\n",
        "predicted_probabilities <- predicted_values[, 2]\n",
        "\n",
        "# Converting probabilities to class predictions (assuming >0.5 means class 1)\n",
        "predicted_classes <- ifelse(predicted_probabilities > 0.5, levels(actual_values)[2], levels(actual_values)[1])\n",
        "\n",
        "# Converting predicted_classes to a factor\n",
        "predicted_classes <- as.factor(predicted_classes)\n",
        "\n",
        "# Evaluating the model with Confusion Matrix\n",
        "confusionMatrix(predicted_classes, actual_values)\n"
      ],
      "metadata": {
        "collapsed": true,
        "id": "4dESRM8Zeb3b"
      },
      "execution_count": null,
      "outputs": []
    },
    {
      "cell_type": "code",
      "source": [
        "# Plot the neural network\n",
        "plot(nn_model)"
      ],
      "metadata": {
        "id": "ysJXvJajeb6d"
      },
      "execution_count": null,
      "outputs": []
    }
  ]
}